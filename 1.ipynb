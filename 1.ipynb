{
 "cells": [
  {
   "cell_type": "markdown",
   "id": "3b7cc48b",
   "metadata": {},
   "source": [
    "# Task 1\n",
    "\n",
    "## Q1:"
   ]
  },
  {
   "cell_type": "code",
   "execution_count": 6,
   "id": "3ced4eae",
   "metadata": {},
   "outputs": [
    {
     "name": "stdout",
     "output_type": "stream",
     "text": [
      "['2020-02-01', '2020-02-02', '2020-02-03', '2020-02-04', '2020-02-05', '2020-02-06', '2020-02-07', '2020-02-08', '2020-02-09', '2020-02-10', '2020-02-11', '2020-02-12', '2020-02-13', '2020-02-14', '2020-02-15', '2020-02-16', '2020-02-17', '2020-02-18', '2020-02-19', '2020-02-20', '2020-02-21', '2020-02-22', '2020-02-23', '2020-02-24', '2020-02-25', '2020-02-26', '2020-02-27', '2020-02-28', '2020-02-29', '2020-03-01', '2020-03-02', '2020-03-03', '2020-03-04', '2020-03-05', '2020-03-06', '2020-03-07', '2020-03-08', '2020-03-09', '2020-03-10', '2020-03-11', '2020-03-12', '2020-03-13', '2020-03-14', '2020-03-15', '2020-03-16', '2020-03-17', '2020-03-18', '2020-03-19', '2020-03-20', '2020-03-21', '2020-03-22', '2020-03-23', '2020-03-24', '2020-03-25', '2020-03-26', '2020-03-27', '2020-03-28', '2020-03-29', '2020-03-30', '2020-03-31', '2020-04-01', '2020-04-02', '2020-04-03', '2020-04-04', '2020-04-05', '2020-04-06', '2020-04-07', '2020-04-08', '2020-04-09', '2020-04-10', '2020-04-11', '2020-04-12', '2020-04-13', '2020-04-14', '2020-04-15', '2020-04-16', '2020-04-17', '2020-04-18', '2020-04-19', '2020-04-20', '2020-04-21', '2020-04-22', '2020-04-23', '2020-04-24', '2020-04-25', '2020-04-26', '2020-04-27', '2020-04-28', '2020-04-29', '2020-04-30', '2020-05-01', '2020-05-02', '2020-05-03', '2020-05-04', '2020-05-05', '2020-05-06', '2020-05-07', '2020-05-08', '2020-05-09', '2020-05-10', '2020-05-11', '2020-05-12', '2020-05-13', '2020-05-14', '2020-05-15', '2020-05-16', '2020-05-17', '2020-05-18', '2020-05-19', '2020-05-20', '2020-05-21', '2020-05-22', '2020-05-23', '2020-05-24', '2020-05-25', '2020-05-26', '2020-05-27', '2020-05-28', '2020-05-29', '2020-05-30', '2020-05-31', '2020-06-01', '2020-06-02', '2020-06-03', '2020-06-04', '2020-06-05', '2020-06-06', '2020-06-07', '2020-06-08', '2020-06-09', '2020-06-10', '2020-06-11', '2020-06-12', '2020-06-13', '2020-06-14', '2020-06-15', '2020-06-16', '2020-06-17', '2020-06-18', '2020-06-19', '2020-06-20', '2020-06-21', '2020-06-22', '2020-06-23', '2020-06-24', '2020-06-25', '2020-06-26', '2020-06-27', '2020-06-28', '2020-06-29', '2020-06-30', '2020-07-01', '2020-07-02', '2020-07-03', '2020-07-04', '2020-07-05', '2020-07-06', '2020-07-07', '2020-07-08', '2020-07-09', '2020-07-10', '2020-07-11', '2020-07-12', '2020-07-13', '2020-07-14', '2020-07-15', '2020-07-16', '2020-07-17', '2020-07-18', '2020-07-19', '2020-07-20', '2020-07-21', '2020-07-22', '2020-07-23', '2020-07-24', '2020-07-25', '2020-07-26', '2020-07-27', '2020-07-28', '2020-07-29', '2020-07-30', '2020-07-31', '2020-08-01', '2020-08-02', '2020-08-03', '2020-08-04', '2020-08-05', '2020-08-06', '2020-08-07', '2020-08-08', '2020-08-09', '2020-08-10', '2020-08-11', '2020-08-12']\n"
     ]
    }
   ],
   "source": [
    "from IPython.core.interactiveshell import InteractiveShell\n",
    "InteractiveShell.ast_node_interactivity = \"all\"\n",
    "import pandas as pd\n",
    "import csv\n",
    "import datetime\n",
    "\n",
    "file = pd.read_csv(\"Effects-of-COVID-19-on-trade.csv\", index_col = 0)#load the csv file, no display the index\n",
    "\n",
    "#Data Clean: get data without duplicate and change the format of the dates to “YYYY-MM-DD \n",
    "def date_convert(s):\n",
    "    return datetime.datetime.strptime(s,\"%d/%m/%y\").strftime('%Y-%m-%d')\n",
    "\n",
    "file[\"Current_Match\"] = file[\"Current_Match\"].apply(date_convert)\n",
    "dates_with_dupes = file[\"Current_Match\"]\n",
    "dates_without_dupes = []\n",
    "for elem in dates_with_dupes:\n",
    "    if elem not in dates_without_dupes:\n",
    "        dates_without_dupes.append(elem)\n",
    "print(dates_without_dupes)"
   ]
  },
  {
   "cell_type": "markdown",
   "id": "7243a4da",
   "metadata": {},
   "source": [
    "## Q2:"
   ]
  },
  {
   "cell_type": "code",
   "execution_count": 7,
   "id": "077ab0c7",
   "metadata": {
    "scrolled": true
   },
   "outputs": [
    {
     "data": {
      "text/plain": [
       "All                            20952\n",
       "China                          11616\n",
       "United States                   3492\n",
       "East Asia (excluding China)     2328\n",
       "Australia                       2328\n",
       "United Kingdom                  2328\n",
       "Japan                           1164\n",
       "Total (excluding China)         1164\n",
       "European Union (28)             1164\n",
       "Name: Country, dtype: int64"
      ]
     },
     "execution_count": 7,
     "metadata": {},
     "output_type": "execute_result"
    }
   ],
   "source": [
    "#Analyse the coloum country, some of them does not have a currency, ignore the 'All', 'East Asia (excluding China), and 'Total (excluding China)'\n",
    "#Therefore there are 6 kinds of currency left\n",
    "country=file['Country'].value_counts()\n",
    "country\n"
   ]
  },
  {
   "cell_type": "code",
   "execution_count": 3,
   "id": "04eb99a6",
   "metadata": {},
   "outputs": [],
   "source": [
    "import requests\n",
    "from bs4 import BeautifulSoup\n",
    "#bulid up 6 empty lists to store the 6 kinds currency name crawled from mthe website\n",
    "usd_n=[]\n",
    "eur_n=[]\n",
    "gbp_n=[]\n",
    "aud_n=[]\n",
    "jpy_n=[]\n",
    "cny_n=[]\n",
    "\n",
    "#bulid up 6 empty lists to store the rates of Units_Per_NZD crawled from mthe website\n",
    "usd_rates=[]\n",
    "eur_rates=[]\n",
    "gbp_rates=[]\n",
    "aud_rates=[]\n",
    "jpy_rates=[]\n",
    "cny_rates=[]\n",
    "\n",
    "#bulid up 6 empty lists to store the rates of NZD_Per Unit crawled from mthe website\n",
    "usd_rates2=[]\n",
    "eur_rates2=[]\n",
    "gbp_rates2=[]\n",
    "aud_rates2=[]\n",
    "jpy_rates2=[]\n",
    "cny_rates2=[]\n",
    "\n",
    "#Pass each date from list in Current_Match coloumn to url, generate a for loop to crawled the data in each day.\n",
    "for page in dates_without_dupes:\n",
    "    url = \"https://www.xe.com/currencytables/?from=NZD&date=%s#table-section\"%(page)\n",
    "    r = requests.get(url)\n",
    "    bs = BeautifulSoup(r.content)\n",
    "    table = bs.find(\"table\", class_ = \"currencytables__Table-xlq26m-3 jaGdii\").find('tbody')\n",
    "    \n",
    "    #get values from the web page \n",
    "    usd_name=table.find_all('tr')[0].find_all('td')[0].get_text()\n",
    "    usd_per_nzd=table.find_all('tr')[0].find_all('td')[1].get_text()\n",
    "    nzd_per_usd=table.find_all('tr')[0].find_all('td')[2].get_text()\n",
    "   \n",
    "    \n",
    "    eur_name=table.find_all('tr')[1].find_all('td')[0].get_text()\n",
    "    eur_per_nzd=table.find_all('tr')[1].find_all('td')[1].get_text()\n",
    "    nzd_per_eur=table.find_all('tr')[1].find_all('td')[2].get_text()\n",
    "    \n",
    "    gbp_name=table.find_all('tr')[2].find_all('td')[0].get_text()\n",
    "    gbp_per_nzd=table.find_all('tr')[2].find_all('td')[1].get_text()\n",
    "    nzd_per_gbp=table.find_all('tr')[2].find_all('td')[2].get_text()\n",
    "    \n",
    "    aud_name=table.find_all('tr')[4].find_all('td')[0].get_text()\n",
    "    aud_per_nzd=table.find_all('tr')[4].find_all('td')[1].get_text()\n",
    "    nzd_per_aud=table.find_all('tr')[4].find_all('td')[2].get_text()\n",
    "    \n",
    "    jpy_name=table.find_all('tr')[9].find_all('td')[0].get_text()\n",
    "    jpy_per_nzd=table.find_all('tr')[9].find_all('td')[1].get_text()\n",
    "    nzd_per_jpy=table.find_all('tr')[9].find_all('td')[2].get_text()\n",
    "    \n",
    "    cny_name=table.find_all('tr')[10].find_all('td')[0].get_text()\n",
    "    cny_per_nzd=table.find_all('tr')[10].find_all('td')[1].get_text()\n",
    "    nzd_per_cny=table.find_all('tr')[10].find_all('td')[2].get_text()\n",
    "    \n",
    "    #store each values in each corresponding list built:\n",
    "    usd_n.append(usd_name)\n",
    "    eur_n.append(eur_name)\n",
    "    gbp_n.append(gbp_name)\n",
    "    aud_n.append(aud_name)\n",
    "    jpy_n.append(jpy_name)\n",
    "    cny_n.append(cny_name)\n",
    "    #composed then currency name in one list named other_currency:\n",
    "    other_currency=usd_n+eur_n+gbp_n+aud_n+jpy_n+cny_n \n",
    "    \n",
    "    \n",
    "    #store each values in each corresponding list built:\n",
    "    usd_rates.append(eur_per_nzd)\n",
    "    eur_rates.append(eur_per_nzd)\n",
    "    gbp_rates.append(gbp_per_nzd)\n",
    "    aud_rates.append(aud_per_nzd)\n",
    "    jpy_rates.append(jpy_per_nzd)\n",
    "    cny_rates.append(cny_per_nzd)\n",
    "    #composed then currency name in one list named units_per_nzd:\n",
    "    units_per_nzd=usd_rates+eur_rates+gbp_rates+aud_rates+jpy_rates+cny_rates\n",
    "    \n",
    "\n",
    "    #store each values in each corresponding list built:\n",
    "    usd_rates2.append(nzd_per_usd)\n",
    "    eur_rates2.append(nzd_per_eur)\n",
    "    gbp_rates2.append(nzd_per_gbp)\n",
    "    aud_rates2.append(nzd_per_aud)\n",
    "    jpy_rates2.append(nzd_per_jpy)\n",
    "    cny_rates2.append(nzd_per_cny)\n",
    "    #composed then currency name in one list named nzd_per_unit:\n",
    "    nzd_per_unit=usd_rates2+eur_rates2+gbp_rates2+aud_rates2+jpy_rates2+cny_rates2\n",
    "    \n"
   ]
  },
  {
   "cell_type": "markdown",
   "id": "873e8f7e",
   "metadata": {},
   "source": [
    "## Q3:"
   ]
  },
  {
   "cell_type": "code",
   "execution_count": 5,
   "id": "ea065fea",
   "metadata": {
    "scrolled": false
   },
   "outputs": [
    {
     "data": {
      "text/html": [
       "<div>\n",
       "<style scoped>\n",
       "    .dataframe tbody tr th:only-of-type {\n",
       "        vertical-align: middle;\n",
       "    }\n",
       "\n",
       "    .dataframe tbody tr th {\n",
       "        vertical-align: top;\n",
       "    }\n",
       "\n",
       "    .dataframe thead th {\n",
       "        text-align: right;\n",
       "    }\n",
       "</style>\n",
       "<table border=\"1\" class=\"dataframe\">\n",
       "  <thead>\n",
       "    <tr style=\"text-align: right;\">\n",
       "      <th></th>\n",
       "      <th>Unique_Date</th>\n",
       "      <th>Other_Currency</th>\n",
       "      <th>Units_Per_NZD</th>\n",
       "      <th>NZD_Per_Unit</th>\n",
       "    </tr>\n",
       "  </thead>\n",
       "  <tbody>\n",
       "    <tr>\n",
       "      <th>0</th>\n",
       "      <td>2020-02-01</td>\n",
       "      <td>US Dollar</td>\n",
       "      <td>0.5826817390</td>\n",
       "      <td>1.5471385956</td>\n",
       "    </tr>\n",
       "    <tr>\n",
       "      <th>1</th>\n",
       "      <td>2020-02-02</td>\n",
       "      <td>US Dollar</td>\n",
       "      <td>0.5826282960</td>\n",
       "      <td>1.5471754286</td>\n",
       "    </tr>\n",
       "    <tr>\n",
       "      <th>2</th>\n",
       "      <td>2020-02-03</td>\n",
       "      <td>US Dollar</td>\n",
       "      <td>0.5841777575</td>\n",
       "      <td>1.5473730371</td>\n",
       "    </tr>\n",
       "    <tr>\n",
       "      <th>3</th>\n",
       "      <td>2020-02-04</td>\n",
       "      <td>US Dollar</td>\n",
       "      <td>0.5867063601</td>\n",
       "      <td>1.5434018170</td>\n",
       "    </tr>\n",
       "    <tr>\n",
       "      <th>4</th>\n",
       "      <td>2020-02-05</td>\n",
       "      <td>US Dollar</td>\n",
       "      <td>0.5885930677</td>\n",
       "      <td>1.5437355590</td>\n",
       "    </tr>\n",
       "    <tr>\n",
       "      <th>...</th>\n",
       "      <td>...</td>\n",
       "      <td>...</td>\n",
       "      <td>...</td>\n",
       "      <td>...</td>\n",
       "    </tr>\n",
       "    <tr>\n",
       "      <th>1159</th>\n",
       "      <td>2020-08-08</td>\n",
       "      <td>Chinese Yuan Renminbi</td>\n",
       "      <td>4.5966446543</td>\n",
       "      <td>0.2175499903</td>\n",
       "    </tr>\n",
       "    <tr>\n",
       "      <th>1160</th>\n",
       "      <td>2020-08-09</td>\n",
       "      <td>Chinese Yuan Renminbi</td>\n",
       "      <td>4.5963976293</td>\n",
       "      <td>0.2175616821</td>\n",
       "    </tr>\n",
       "    <tr>\n",
       "      <th>1161</th>\n",
       "      <td>2020-08-10</td>\n",
       "      <td>Chinese Yuan Renminbi</td>\n",
       "      <td>4.5878969863</td>\n",
       "      <td>0.2179647893</td>\n",
       "    </tr>\n",
       "    <tr>\n",
       "      <th>1162</th>\n",
       "      <td>2020-08-11</td>\n",
       "      <td>Chinese Yuan Renminbi</td>\n",
       "      <td>4.5678640387</td>\n",
       "      <td>0.2189207016</td>\n",
       "    </tr>\n",
       "    <tr>\n",
       "      <th>1163</th>\n",
       "      <td>2020-08-12</td>\n",
       "      <td>Chinese Yuan Renminbi</td>\n",
       "      <td>4.5675776640</td>\n",
       "      <td>0.2189344273</td>\n",
       "    </tr>\n",
       "  </tbody>\n",
       "</table>\n",
       "<p>1164 rows × 4 columns</p>\n",
       "</div>"
      ],
      "text/plain": [
       "     Unique_Date         Other_Currency Units_Per_NZD  NZD_Per_Unit\n",
       "0     2020-02-01              US Dollar  0.5826817390  1.5471385956\n",
       "1     2020-02-02              US Dollar  0.5826282960  1.5471754286\n",
       "2     2020-02-03              US Dollar  0.5841777575  1.5473730371\n",
       "3     2020-02-04              US Dollar  0.5867063601  1.5434018170\n",
       "4     2020-02-05              US Dollar  0.5885930677  1.5437355590\n",
       "...          ...                    ...           ...           ...\n",
       "1159  2020-08-08  Chinese Yuan Renminbi  4.5966446543  0.2175499903\n",
       "1160  2020-08-09  Chinese Yuan Renminbi  4.5963976293  0.2175616821\n",
       "1161  2020-08-10  Chinese Yuan Renminbi  4.5878969863  0.2179647893\n",
       "1162  2020-08-11  Chinese Yuan Renminbi  4.5678640387  0.2189207016\n",
       "1163  2020-08-12  Chinese Yuan Renminbi  4.5675776640  0.2189344273\n",
       "\n",
       "[1164 rows x 4 columns]"
      ]
     },
     "execution_count": 5,
     "metadata": {},
     "output_type": "execute_result"
    }
   ],
   "source": [
    "import csv\n",
    "import pandas as pd\n",
    "\n",
    "#composed 6 times the unique dats get from Q1 to make the correspond the data get from the websites.\n",
    "unique_date=dates_without_dupes*6\n",
    "\n",
    "#save the 4 columns as csv file\n",
    "with open(\"Task1_Group19.csv\", \"w\", encoding = \"utf-8\") as wf:\n",
    "    writer = csv.writer(wf, quoting=csv.QUOTE_ALL)\n",
    "    header = ['Unique_Date', 'Other_Currency', 'Units_Per_NZD', 'NZD_Per_Unit']\n",
    "    table_dic = {'Unique_Date': unique_date, 'Other_Currency': other_currency, 'Units_Per_NZD': units_per_nzd,'NZD_Per_Unit':nzd_per_unit}  \n",
    "    dataframe = pd.DataFrame(table_dic) \n",
    "    dataframe.to_csv('Task1_Group19.csv',index=False)\n",
    "    dataframe  "
   ]
  },
  {
   "cell_type": "markdown",
   "id": "777bb569",
   "metadata": {},
   "source": [
    "# Task 2\n",
    "\n",
    "## Q1:"
   ]
  },
  {
   "cell_type": "code",
   "execution_count": 4,
   "id": "17649642",
   "metadata": {},
   "outputs": [
    {
     "name": "stdout",
     "output_type": "stream",
     "text": [
      "Requirement already satisfied: pytrends in c:\\programdata\\anaconda3\\lib\\site-packages (4.8.0)\n",
      "Requirement already satisfied: pandas>=0.25 in c:\\programdata\\anaconda3\\lib\\site-packages (from pytrends) (1.2.4)\n",
      "Requirement already satisfied: requests>=2.0 in c:\\programdata\\anaconda3\\lib\\site-packages (from pytrends) (2.25.1)\n",
      "Requirement already satisfied: lxml in c:\\programdata\\anaconda3\\lib\\site-packages (from pytrends) (4.6.3)\n",
      "Requirement already satisfied: numpy>=1.16.5 in c:\\programdata\\anaconda3\\lib\\site-packages (from pandas>=0.25->pytrends) (1.20.1)\n",
      "Requirement already satisfied: pytz>=2017.3 in c:\\programdata\\anaconda3\\lib\\site-packages (from pandas>=0.25->pytrends) (2021.1)\n",
      "Requirement already satisfied: python-dateutil>=2.7.3 in c:\\programdata\\anaconda3\\lib\\site-packages (from pandas>=0.25->pytrends) (2.8.1)\n",
      "Requirement already satisfied: six>=1.5 in c:\\programdata\\anaconda3\\lib\\site-packages (from python-dateutil>=2.7.3->pandas>=0.25->pytrends) (1.15.0)\n",
      "Requirement already satisfied: idna<3,>=2.5 in c:\\programdata\\anaconda3\\lib\\site-packages (from requests>=2.0->pytrends) (2.10)\n",
      "Requirement already satisfied: urllib3<1.27,>=1.21.1 in c:\\programdata\\anaconda3\\lib\\site-packages (from requests>=2.0->pytrends) (1.26.4)\n",
      "Requirement already satisfied: certifi>=2017.4.17 in c:\\programdata\\anaconda3\\lib\\site-packages (from requests>=2.0->pytrends) (2020.12.5)\n",
      "Requirement already satisfied: chardet<5,>=3.0.2 in c:\\programdata\\anaconda3\\lib\\site-packages (from requests>=2.0->pytrends) (4.0.0)\n",
      "Note: you may need to restart the kernel to use updated packages.\n"
     ]
    }
   ],
   "source": [
    "pip install pytrends"
   ]
  },
  {
   "cell_type": "code",
   "execution_count": 11,
   "id": "07daa9ce",
   "metadata": {},
   "outputs": [
    {
     "data": {
      "text/plain": [
       "'2020-02-01'"
      ]
     },
     "execution_count": 11,
     "metadata": {},
     "output_type": "execute_result"
    },
    {
     "data": {
      "text/plain": [
       "'2020-08-12'"
      ]
     },
     "execution_count": 11,
     "metadata": {},
     "output_type": "execute_result"
    }
   ],
   "source": [
    "import pandas as pd\n",
    "from pytrends.request import TrendReq\n",
    "pytrends = TrendReq(hl='en-NZ', tz=720)  #parameter tz is the time difference between UTC and current locale(NZ)\n",
    "#import matplotlib.pyplot as plt\n",
    "Trending_topics = TrendReq(hl='en-US', tz=720)\n",
    "\n",
    "#find the date in dates_without_dupes list from Task1 Step1\n",
    "start_date=dates_without_dupes[0]\n",
    "start_date\n",
    "end_date=dates_without_dupes[-1]\n",
    "end_date"
   ]
  },
  {
   "cell_type": "code",
   "execution_count": 14,
   "id": "2fa2d10a",
   "metadata": {},
   "outputs": [
    {
     "data": {
      "text/html": [
       "<div>\n",
       "<style scoped>\n",
       "    .dataframe tbody tr th:only-of-type {\n",
       "        vertical-align: middle;\n",
       "    }\n",
       "\n",
       "    .dataframe tbody tr th {\n",
       "        vertical-align: top;\n",
       "    }\n",
       "\n",
       "    .dataframe thead th {\n",
       "        text-align: right;\n",
       "    }\n",
       "</style>\n",
       "<table border=\"1\" class=\"dataframe\">\n",
       "  <thead>\n",
       "    <tr style=\"text-align: right;\">\n",
       "      <th></th>\n",
       "      <th>Coronavirus</th>\n",
       "      <th>COVID</th>\n",
       "      <th>COVID-19</th>\n",
       "      <th>isPartial</th>\n",
       "    </tr>\n",
       "    <tr>\n",
       "      <th>date</th>\n",
       "      <th></th>\n",
       "      <th></th>\n",
       "      <th></th>\n",
       "      <th></th>\n",
       "    </tr>\n",
       "  </thead>\n",
       "  <tbody>\n",
       "    <tr>\n",
       "      <th>2020-02-01</th>\n",
       "      <td>20</td>\n",
       "      <td>0</td>\n",
       "      <td>0</td>\n",
       "      <td>False</td>\n",
       "    </tr>\n",
       "    <tr>\n",
       "      <th>2020-02-02</th>\n",
       "      <td>14</td>\n",
       "      <td>0</td>\n",
       "      <td>0</td>\n",
       "      <td>False</td>\n",
       "    </tr>\n",
       "    <tr>\n",
       "      <th>2020-02-03</th>\n",
       "      <td>14</td>\n",
       "      <td>0</td>\n",
       "      <td>0</td>\n",
       "      <td>False</td>\n",
       "    </tr>\n",
       "    <tr>\n",
       "      <th>2020-02-04</th>\n",
       "      <td>13</td>\n",
       "      <td>0</td>\n",
       "      <td>0</td>\n",
       "      <td>False</td>\n",
       "    </tr>\n",
       "    <tr>\n",
       "      <th>2020-02-05</th>\n",
       "      <td>11</td>\n",
       "      <td>0</td>\n",
       "      <td>0</td>\n",
       "      <td>False</td>\n",
       "    </tr>\n",
       "    <tr>\n",
       "      <th>...</th>\n",
       "      <td>...</td>\n",
       "      <td>...</td>\n",
       "      <td>...</td>\n",
       "      <td>...</td>\n",
       "    </tr>\n",
       "    <tr>\n",
       "      <th>2020-08-08</th>\n",
       "      <td>5</td>\n",
       "      <td>9</td>\n",
       "      <td>1</td>\n",
       "      <td>False</td>\n",
       "    </tr>\n",
       "    <tr>\n",
       "      <th>2020-08-09</th>\n",
       "      <td>4</td>\n",
       "      <td>10</td>\n",
       "      <td>1</td>\n",
       "      <td>False</td>\n",
       "    </tr>\n",
       "    <tr>\n",
       "      <th>2020-08-10</th>\n",
       "      <td>5</td>\n",
       "      <td>10</td>\n",
       "      <td>1</td>\n",
       "      <td>False</td>\n",
       "    </tr>\n",
       "    <tr>\n",
       "      <th>2020-08-11</th>\n",
       "      <td>14</td>\n",
       "      <td>75</td>\n",
       "      <td>8</td>\n",
       "      <td>False</td>\n",
       "    </tr>\n",
       "    <tr>\n",
       "      <th>2020-08-12</th>\n",
       "      <td>14</td>\n",
       "      <td>78</td>\n",
       "      <td>7</td>\n",
       "      <td>False</td>\n",
       "    </tr>\n",
       "  </tbody>\n",
       "</table>\n",
       "<p>194 rows × 4 columns</p>\n",
       "</div>"
      ],
      "text/plain": [
       "            Coronavirus  COVID  COVID-19  isPartial\n",
       "date                                               \n",
       "2020-02-01           20      0         0      False\n",
       "2020-02-02           14      0         0      False\n",
       "2020-02-03           14      0         0      False\n",
       "2020-02-04           13      0         0      False\n",
       "2020-02-05           11      0         0      False\n",
       "...                 ...    ...       ...        ...\n",
       "2020-08-08            5      9         1      False\n",
       "2020-08-09            4     10         1      False\n",
       "2020-08-10            5     10         1      False\n",
       "2020-08-11           14     75         8      False\n",
       "2020-08-12           14     78         7      False\n",
       "\n",
       "[194 rows x 4 columns]"
      ]
     },
     "execution_count": 14,
     "metadata": {},
     "output_type": "execute_result"
    }
   ],
   "source": [
    "#pass the last result to the dataframe, and pass the keywords\n",
    "kw_list=[\"Coronavirus\", \"COVID\", \"COVID-19\"]\n",
    "Trending_topics.build_payload(kw_list,cat=0, timeframe='2020-02-01 2020-08-12', geo='NZ')\n",
    "\n",
    "data = Trending_topics.interest_over_time()\n",
    "data\n",
    "\n",
    "#data_sort = data.sort_values(by=\"date\",ascending = True)\n",
    "\n",
    "#data_sort"
   ]
  },
  {
   "cell_type": "code",
   "execution_count": 25,
   "id": "b68417c2",
   "metadata": {},
   "outputs": [
    {
     "data": {
      "text/html": [
       "<div>\n",
       "<style scoped>\n",
       "    .dataframe tbody tr th:only-of-type {\n",
       "        vertical-align: middle;\n",
       "    }\n",
       "\n",
       "    .dataframe tbody tr th {\n",
       "        vertical-align: top;\n",
       "    }\n",
       "\n",
       "    .dataframe thead th {\n",
       "        text-align: right;\n",
       "    }\n",
       "</style>\n",
       "<table border=\"1\" class=\"dataframe\">\n",
       "  <thead>\n",
       "    <tr style=\"text-align: right;\">\n",
       "      <th></th>\n",
       "      <th>Jordan Chan</th>\n",
       "      <th>jordan</th>\n",
       "      <th>lauren liang</th>\n",
       "      <th>jordan chan</th>\n",
       "      <th>isPartial</th>\n",
       "    </tr>\n",
       "    <tr>\n",
       "      <th>date</th>\n",
       "      <th></th>\n",
       "      <th></th>\n",
       "      <th></th>\n",
       "      <th></th>\n",
       "      <th></th>\n",
       "    </tr>\n",
       "  </thead>\n",
       "  <tbody>\n",
       "    <tr>\n",
       "      <th>2023-01-05</th>\n",
       "      <td>0</td>\n",
       "      <td>82</td>\n",
       "      <td>0</td>\n",
       "      <td>0</td>\n",
       "      <td>False</td>\n",
       "    </tr>\n",
       "    <tr>\n",
       "      <th>2023-01-06</th>\n",
       "      <td>0</td>\n",
       "      <td>75</td>\n",
       "      <td>0</td>\n",
       "      <td>0</td>\n",
       "      <td>False</td>\n",
       "    </tr>\n",
       "    <tr>\n",
       "      <th>2023-01-07</th>\n",
       "      <td>0</td>\n",
       "      <td>72</td>\n",
       "      <td>0</td>\n",
       "      <td>0</td>\n",
       "      <td>False</td>\n",
       "    </tr>\n",
       "    <tr>\n",
       "      <th>2023-01-08</th>\n",
       "      <td>0</td>\n",
       "      <td>100</td>\n",
       "      <td>0</td>\n",
       "      <td>0</td>\n",
       "      <td>False</td>\n",
       "    </tr>\n",
       "    <tr>\n",
       "      <th>2023-01-09</th>\n",
       "      <td>0</td>\n",
       "      <td>87</td>\n",
       "      <td>0</td>\n",
       "      <td>0</td>\n",
       "      <td>False</td>\n",
       "    </tr>\n",
       "    <tr>\n",
       "      <th>2023-01-10</th>\n",
       "      <td>0</td>\n",
       "      <td>83</td>\n",
       "      <td>0</td>\n",
       "      <td>0</td>\n",
       "      <td>False</td>\n",
       "    </tr>\n",
       "  </tbody>\n",
       "</table>\n",
       "</div>"
      ],
      "text/plain": [
       "            Jordan Chan  jordan  lauren liang  jordan chan  isPartial\n",
       "date                                                                 \n",
       "2023-01-05            0      82             0            0      False\n",
       "2023-01-06            0      75             0            0      False\n",
       "2023-01-07            0      72             0            0      False\n",
       "2023-01-08            0     100             0            0      False\n",
       "2023-01-09            0      87             0            0      False\n",
       "2023-01-10            0      83             0            0      False"
      ]
     },
     "execution_count": 25,
     "metadata": {},
     "output_type": "execute_result"
    }
   ],
   "source": [
    "\n",
    "pytrends = TrendReq(hl='en-NZ', tz=720)  #parameter tz is the time difference between UTC and current locale(NZ)\n",
    "#import matplotlib.pyplot as plt\n",
    "Trending_topics = TrendReq()\n",
    "kw_list=[\"Jordan Chan\",\"jordan\",'lauren liang',\"jordan chan\"]\n",
    "Trending_topics.build_payload(kw_list,cat=0, timeframe='2023-01-05 2023-01-10', geo='NZ')\n",
    "\n",
    "data = Trending_topics.interest_over_time()\n",
    "data"
   ]
  },
  {
   "cell_type": "markdown",
   "id": "23ca7ba7",
   "metadata": {},
   "source": [
    "## Q2:"
   ]
  },
  {
   "cell_type": "code",
   "execution_count": 13,
   "id": "1fff8de8",
   "metadata": {},
   "outputs": [
    {
     "data": {
      "text/plain": [
       "<AxesSubplot:xlabel='date'>"
      ]
     },
     "execution_count": 13,
     "metadata": {},
     "output_type": "execute_result"
    },
    {
     "data": {
      "text/plain": [
       "array([<AxesSubplot:xlabel='date'>, <AxesSubplot:xlabel='date'>,\n",
       "       <AxesSubplot:xlabel='date'>], dtype=object)"
      ]
     },
     "execution_count": 13,
     "metadata": {},
     "output_type": "execute_result"
    },
    {
     "data": {
      "image/png": "[encoded data removed]",
      "text/plain": [
       "<Figure size 432x288 with 1 Axes>"
      ]
     },
     "metadata": {
      "needs_background": "light"
     },
     "output_type": "display_data"
    },
    {
     "data": {
      "image/png": "[encoded data removed]",
      "text/plain": [
       "<Figure size 432x288 with 3 Axes>"
      ]
     },
     "metadata": {
      "needs_background": "light"
     },
     "output_type": "display_data"
    }
   ],
   "source": [
    "data.plot()\n",
    "data.plot(subplots=True)"
   ]
  },
  {
   "cell_type": "markdown",
   "id": "d522aa74",
   "metadata": {},
   "source": [
    "The general trends of all three keywords are similar. In early February, a coronavirus epidemic exploded in China and other countries, so New Zealand imposed travel restrictions on China. Therefore the google trends of the keyword 'Coronavirus' has attention. And the other two keywords almost had no attention because WHO just named the coronavirus 'COVID-19' on 11 Feb; they were new entries. The keyword 'COVID-19' became more popular than 'Coronavirus' from the mid-month of March as the word covid appeared in the news more frequently. The number of searches for covid 19 has been relatively low because 'COVID-19' is a more professional word that appears in news and articles, and people may not like to switch keyboards and type numbers and punctuation.\n",
    "\n",
    "The google trends of 'Coronavirus' started to grow at the end of February because the first case appeared in New Zealand on 28 Feb. In early March, as the number of cases gradually increased, the three graphs gradual increase the number of cases. The graphs peaked around the end of March because it was the first time in New Zealand's history that the border was closed on 20 Mar, and Auckland City Council closed down the community public facilities. Community transmission began on 23 Mar, and the national alert level of 3 was raised to 4 after 48 hours, and the era of lockdown in New Zealand started.\n",
    "\n",
    "Then the attention of google trends of these three keywords decreased as the epidemic got better. A sharp boost on 11 Aug happened because there was a new case after 102 days of no growth, and Auckland moved to level 3."
   ]
  },
  {
   "cell_type": "markdown",
   "id": "cca8a5f5",
   "metadata": {},
   "source": [
    "## Q3:"
   ]
  },
  {
   "cell_type": "code",
   "execution_count": 22,
   "id": "725c77ed",
   "metadata": {},
   "outputs": [
    {
     "data": {
      "text/plain": [
       "<AxesSubplot:xlabel='date'>"
      ]
     },
     "execution_count": 22,
     "metadata": {},
     "output_type": "execute_result"
    },
    {
     "data": {
      "text/plain": [
       "<AxesSubplot:xlabel='date'>"
      ]
     },
     "execution_count": 22,
     "metadata": {},
     "output_type": "execute_result"
    },
    {
     "data": {
      "text/plain": [
       "<AxesSubplot:xlabel='date'>"
      ]
     },
     "execution_count": 22,
     "metadata": {},
     "output_type": "execute_result"
    },
    {
     "data": {
      "text/plain": [
       "<AxesSubplot:xlabel='date'>"
      ]
     },
     "execution_count": 22,
     "metadata": {},
     "output_type": "execute_result"
    },
    {
     "data": {
      "text/plain": [
       "<AxesSubplot:xlabel='date'>"
      ]
     },
     "execution_count": 22,
     "metadata": {},
     "output_type": "execute_result"
    },
    {
     "data": {
      "image/png": "[encoded data removed]",
      "text/plain": [
       "<Figure size 432x288 with 1 Axes>"
      ]
     },
     "metadata": {
      "needs_background": "light"
     },
     "output_type": "display_data"
    },
    {
     "data": {
      "image/png": "[encoded data removed]",
      "text/plain": [
       "<Figure size 432x288 with 1 Axes>"
      ]
     },
     "metadata": {
      "needs_background": "light"
     },
     "output_type": "display_data"
    },
    {
     "data": {
      "image/png": "[encoded data removed]",
      "text/plain": [
       "<Figure size 432x288 with 1 Axes>"
      ]
     },
     "metadata": {
      "needs_background": "light"
     },
     "output_type": "display_data"
    },
    {
     "data": {
      "image/png": "[encoded data removed]",
      "text/plain": [
       "<Figure size 432x288 with 1 Axes>"
      ]
     },
     "metadata": {
      "needs_background": "light"
     },
     "output_type": "display_data"
    },
    {
     "data": {
      "image/png": "[encoded data removed]",
      "text/plain": [
       "<Figure size 432x288 with 1 Axes>"
      ]
     },
     "metadata": {
      "needs_background": "light"
     },
     "output_type": "display_data"
    }
   ],
   "source": [
    "#default is 'web searches',others include 'images','news','youtube','froogle' (google shopping) \n",
    "import pandas as dp\n",
    "kw_list1=[\"COVID-19\"]\n",
    "web=pytrends.get_historical_interest(kw_list1, year_start=2020, month_start=2, \n",
    "day_start=27, hour_start=0, year_end=2020, month_end=2, day_end=29, hour_end=23, cat=0, geo='NZ', gprop='', sleep=0)\n",
    "\n",
    "image=pytrends.get_historical_interest(kw_list1, year_start=2020, month_start=2,\n",
    "day_start=27, hour_start=0, year_end=2020, month_end=2, day_end=29, hour_end=23, cat=0, geo='NZ', gprop='images',sleep=0)\n",
    "\n",
    "news=pytrends.get_historical_interest(kw_list1, year_start=2020, month_start=2,\n",
    "day_start=27, hour_start=0, year_end=2020, month_end=2, day_end=29, hour_end=23, cat=0, geo='NZ', gprop='news',sleep=0)\n",
    "\n",
    "youtube_search=pytrends.get_historical_interest(kw_list1, year_start=2020, month_start=2,\n",
    "day_start=27, hour_start=0, year_end=2020, month_end=2, day_end=29, hour_end=23, cat=0, geo='NZ', gprop='youtube',sleep=0)\n",
    "\n",
    "gle_shopping=pytrends.get_historical_interest(kw_list1, year_start=2020, month_start=2,\n",
    "day_start=27, hour_start=0, year_end=2020, month_end=2, day_end=29, hour_end=23, cat=0, geo='NZ', gprop='froogle',sleep=0)\n",
    "\n",
    "#Displaying 5 plots separately to show the change of 5 different search types clearly.\n",
    "web.plot()\n",
    "image.plot()\n",
    "news.plot()\n",
    "youtube_search.plot()\n",
    "gle_shopping.plot()\n"
   ]
  }
 ],
 "metadata": {
  "kernelspec": {
   "display_name": "Python 3 (ipykernel)",
   "language": "python",
   "name": "python3"
  },
  "language_info": {
   "codemirror_mode": {
    "name": "ipython",
    "version": 3
   },
   "file_extension": ".py",
   "mimetype": "text/x-python",
   "name": "python",
   "nbconvert_exporter": "python",
   "pygments_lexer": "ipython3",
   "version": "3.9.12"
  }
 },
 "nbformat": 4,
 "nbformat_minor": 5
}
